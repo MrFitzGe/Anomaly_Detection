{
 "cells": [
  {
   "cell_type": "markdown",
   "id": "fa7bccd1-f246-4891-a950-e7c0d3a342f2",
   "metadata": {},
   "source": [
    "# Anaesthesia DBS - Anomaly Detection pipeline"
   ]
  },
  {
   "cell_type": "markdown",
   "id": "6fbabea2-b209-4f7e-96bc-554c9e654e76",
   "metadata": {},
   "source": [
    "## Load the libraries/packages needed"
   ]
  },
  {
   "cell_type": "code",
   "execution_count": 1,
   "id": "caae9fd7-3be3-4dcf-83a5-21a2a2a11c6e",
   "metadata": {},
   "outputs": [],
   "source": [
    "import pyod\n",
    "import pandas as pd\n",
    "import seaborn as sns\n",
    "import numpy as np\n",
    "from scipy import stats\n",
    "import random\n",
    "\n",
    "from sklearn.preprocessing import MinMaxScaler\n",
    "from sklearn.decomposition import PCA\n",
    "\n",
    "from sklearn.metrics import confusion_matrix\n",
    "\n",
    "\n",
    "import matplotlib.pyplot as plt\n",
    "%matplotlib inline\n",
    "\n",
    "# Show Multiple outputs from a cell\n",
    "from IPython.core.interactiveshell import InteractiveShell\n",
    "InteractiveShell.ast_node_interactivity = 'all'"
   ]
  },
  {
   "cell_type": "markdown",
   "id": "900fa3f5-addd-4c14-9d77-0b242a0ad11a",
   "metadata": {},
   "source": [
    "### User-defined helper functions"
   ]
  },
  {
   "cell_type": "code",
   "execution_count": 2,
   "id": "e0aab258-1e3e-452d-82f6-a9a725339464",
   "metadata": {},
   "outputs": [],
   "source": [
    "from sklearn.metrics import accuracy_score, f1_score, matthews_corrcoef, precision_score, recall_score, roc_auc_score\n",
    "\n",
    "def metrics_dataframe(model, y_test, prediction=None, X_test=None, metrics=['accuracy_score', 'matthews_corrcoef','f1_score', 'precision_score', 'recall_score', 'roc_auc_score']):\n",
    "    \n",
    "    if X_test is not None:\n",
    "        prediction = model.predict(X_test)\n",
    "    \n",
    "    MCC = matthews_corrcoef(y_test, prediction)\n",
    "    ACC = accuracy_score(y_test, prediction)\n",
    "    F1 = f1_score(y_test, prediction, average='weighted')\n",
    "    SENS = recall_score(y_test, prediction)\n",
    "    Prec = precision_score(y_test, prediction)\n",
    "    AUC_ROC = roc_auc_score(y_test, prediction)\n",
    "    df2 = pd.DataFrame([np.array([ACC, MCC, F1, Prec, SENS, AUC_ROC])], columns=metrics)\n",
    "    df2 = df2.assign(model =[str(model)])\n",
    "    \n",
    "    df2.head()\n",
    "    return(df2)"
   ]
  },
  {
   "cell_type": "markdown",
   "id": "6ddbaf22-fd4f-4fba-9b21-0ed8e15c9ddd",
   "metadata": {
    "tags": []
   },
   "source": [
    "## Load Data"
   ]
  },
  {
   "cell_type": "markdown",
   "id": "3ec8d497-f239-41f6-9c8f-0d6fe46170b8",
   "metadata": {},
   "source": [
    "### Time Ranges Table for reading MAT file data\n",
    "\n",
    "| Description      | Start Row | End Row     |\n",
    "| :---        |    :----:   |          ---: |\n",
    "| Epoch 1: Awake State as Propofol was given   | 0  | 900000   |\n",
    "| Epoch 2: DBS & RoC   | 1140000        | 1440000      |\n",
    "| Epoch 3: Recovery State   | 1800000        | 2090000      |\n",
    "\n"
   ]
  },
  {
   "cell_type": "markdown",
   "id": "15c33a82-1368-4243-8109-d4decfdada82",
   "metadata": {},
   "source": [
    "Epoch 1 details: Initial 15 minutes (900000 ms) of propofol administration (induction infusion)\n",
    "After, 30000ms pulses of DBS in thalamus during half-rate propofol infusion - for maintenance of LOC.\n",
    "15 minute recovery at the end of the study\n"
   ]
  },
  {
   "cell_type": "code",
   "execution_count": 3,
   "id": "be01473a-2871-47c7-b144-354c19ac636e",
   "metadata": {},
   "outputs": [
    {
     "data": {
      "text/plain": [
       "650000"
      ]
     },
     "execution_count": 3,
     "metadata": {},
     "output_type": "execute_result"
    }
   ],
   "source": [
    "2090000 - 1440000"
   ]
  },
  {
   "cell_type": "code",
   "execution_count": 4,
   "id": "306008ce-8008-4d9f-981c-b17678f09475",
   "metadata": {},
   "outputs": [],
   "source": [
    "FEF_df = pd.read_csv('Data/FEF_data.csv', header = None)"
   ]
  },
  {
   "cell_type": "code",
   "execution_count": 20,
   "id": "f8826271-3453-43c6-8a61-ea0b9e474c07",
   "metadata": {},
   "outputs": [
    {
     "data": {
      "text/html": [
       "<div>\n",
       "<style scoped>\n",
       "    .dataframe tbody tr th:only-of-type {\n",
       "        vertical-align: middle;\n",
       "    }\n",
       "\n",
       "    .dataframe tbody tr th {\n",
       "        vertical-align: top;\n",
       "    }\n",
       "\n",
       "    .dataframe thead th {\n",
       "        text-align: right;\n",
       "    }\n",
       "</style>\n",
       "<table border=\"1\" class=\"dataframe\">\n",
       "  <thead>\n",
       "    <tr style=\"text-align: right;\">\n",
       "      <th></th>\n",
       "      <th>0</th>\n",
       "      <th>1</th>\n",
       "      <th>2</th>\n",
       "      <th>3</th>\n",
       "      <th>4</th>\n",
       "      <th>5</th>\n",
       "      <th>6</th>\n",
       "      <th>7</th>\n",
       "      <th>8</th>\n",
       "      <th>9</th>\n",
       "      <th>...</th>\n",
       "      <th>35</th>\n",
       "      <th>36</th>\n",
       "      <th>37</th>\n",
       "      <th>38</th>\n",
       "      <th>39</th>\n",
       "      <th>40</th>\n",
       "      <th>41</th>\n",
       "      <th>42</th>\n",
       "      <th>43</th>\n",
       "      <th>44</th>\n",
       "    </tr>\n",
       "  </thead>\n",
       "  <tbody>\n",
       "    <tr>\n",
       "      <th>count</th>\n",
       "      <td>200000.000000</td>\n",
       "      <td>200000.000000</td>\n",
       "      <td>200000.000000</td>\n",
       "      <td>200000.000000</td>\n",
       "      <td>200000.000000</td>\n",
       "      <td>200000.000000</td>\n",
       "      <td>200000.000000</td>\n",
       "      <td>200000.000000</td>\n",
       "      <td>200000.000000</td>\n",
       "      <td>200000.000000</td>\n",
       "      <td>...</td>\n",
       "      <td>200000.000000</td>\n",
       "      <td>200000.000000</td>\n",
       "      <td>200000.000000</td>\n",
       "      <td>200000.000000</td>\n",
       "      <td>200000.000000</td>\n",
       "      <td>200000.000000</td>\n",
       "      <td>200000.000000</td>\n",
       "      <td>200000.000000</td>\n",
       "      <td>200000.000000</td>\n",
       "      <td>200000.000000</td>\n",
       "    </tr>\n",
       "    <tr>\n",
       "      <th>mean</th>\n",
       "      <td>-0.155080</td>\n",
       "      <td>-0.151245</td>\n",
       "      <td>1.199985</td>\n",
       "      <td>0.992790</td>\n",
       "      <td>0.175685</td>\n",
       "      <td>0.983750</td>\n",
       "      <td>-0.162915</td>\n",
       "      <td>0.261170</td>\n",
       "      <td>0.421385</td>\n",
       "      <td>0.033805</td>\n",
       "      <td>...</td>\n",
       "      <td>0.821340</td>\n",
       "      <td>0.223980</td>\n",
       "      <td>0.436250</td>\n",
       "      <td>0.011300</td>\n",
       "      <td>1.118390</td>\n",
       "      <td>0.905315</td>\n",
       "      <td>0.816925</td>\n",
       "      <td>0.051260</td>\n",
       "      <td>0.561610</td>\n",
       "      <td>0.163880</td>\n",
       "    </tr>\n",
       "    <tr>\n",
       "      <th>std</th>\n",
       "      <td>469.812333</td>\n",
       "      <td>474.982646</td>\n",
       "      <td>531.597327</td>\n",
       "      <td>497.698988</td>\n",
       "      <td>416.849924</td>\n",
       "      <td>481.063172</td>\n",
       "      <td>430.275056</td>\n",
       "      <td>412.539349</td>\n",
       "      <td>409.782049</td>\n",
       "      <td>442.938682</td>\n",
       "      <td>...</td>\n",
       "      <td>451.416847</td>\n",
       "      <td>448.273046</td>\n",
       "      <td>394.024345</td>\n",
       "      <td>497.388713</td>\n",
       "      <td>501.522818</td>\n",
       "      <td>459.497084</td>\n",
       "      <td>423.988320</td>\n",
       "      <td>459.510612</td>\n",
       "      <td>377.669088</td>\n",
       "      <td>412.803968</td>\n",
       "    </tr>\n",
       "    <tr>\n",
       "      <th>min</th>\n",
       "      <td>-1960.000000</td>\n",
       "      <td>-1990.000000</td>\n",
       "      <td>-1936.000000</td>\n",
       "      <td>-1827.000000</td>\n",
       "      <td>-2099.000000</td>\n",
       "      <td>-1785.000000</td>\n",
       "      <td>-1741.000000</td>\n",
       "      <td>-1898.000000</td>\n",
       "      <td>-1959.000000</td>\n",
       "      <td>-2200.000000</td>\n",
       "      <td>...</td>\n",
       "      <td>-2028.000000</td>\n",
       "      <td>-2175.000000</td>\n",
       "      <td>-1941.000000</td>\n",
       "      <td>-2100.000000</td>\n",
       "      <td>-1872.000000</td>\n",
       "      <td>-1700.000000</td>\n",
       "      <td>-1657.000000</td>\n",
       "      <td>-2358.000000</td>\n",
       "      <td>-1685.000000</td>\n",
       "      <td>-1824.000000</td>\n",
       "    </tr>\n",
       "    <tr>\n",
       "      <th>25%</th>\n",
       "      <td>-289.000000</td>\n",
       "      <td>-292.000000</td>\n",
       "      <td>-332.000000</td>\n",
       "      <td>-311.000000</td>\n",
       "      <td>-256.000000</td>\n",
       "      <td>-301.000000</td>\n",
       "      <td>-270.000000</td>\n",
       "      <td>-266.000000</td>\n",
       "      <td>-259.000000</td>\n",
       "      <td>-268.000000</td>\n",
       "      <td>...</td>\n",
       "      <td>-281.000000</td>\n",
       "      <td>-274.000000</td>\n",
       "      <td>-242.000000</td>\n",
       "      <td>-299.000000</td>\n",
       "      <td>-314.000000</td>\n",
       "      <td>-284.000000</td>\n",
       "      <td>-267.000000</td>\n",
       "      <td>-278.000000</td>\n",
       "      <td>-237.000000</td>\n",
       "      <td>-257.000000</td>\n",
       "    </tr>\n",
       "    <tr>\n",
       "      <th>50%</th>\n",
       "      <td>42.000000</td>\n",
       "      <td>42.000000</td>\n",
       "      <td>62.000000</td>\n",
       "      <td>60.000000</td>\n",
       "      <td>45.000000</td>\n",
       "      <td>53.000000</td>\n",
       "      <td>26.000000</td>\n",
       "      <td>36.000000</td>\n",
       "      <td>43.000000</td>\n",
       "      <td>48.000000</td>\n",
       "      <td>...</td>\n",
       "      <td>65.000000</td>\n",
       "      <td>52.000000</td>\n",
       "      <td>45.000000</td>\n",
       "      <td>51.000000</td>\n",
       "      <td>62.000000</td>\n",
       "      <td>59.000000</td>\n",
       "      <td>54.000000</td>\n",
       "      <td>55.000000</td>\n",
       "      <td>37.000000</td>\n",
       "      <td>35.000000</td>\n",
       "    </tr>\n",
       "    <tr>\n",
       "      <th>75%</th>\n",
       "      <td>302.000000</td>\n",
       "      <td>307.000000</td>\n",
       "      <td>363.000000</td>\n",
       "      <td>344.000000</td>\n",
       "      <td>273.000000</td>\n",
       "      <td>329.000000</td>\n",
       "      <td>260.000000</td>\n",
       "      <td>277.000000</td>\n",
       "      <td>289.000000</td>\n",
       "      <td>284.000000</td>\n",
       "      <td>...</td>\n",
       "      <td>316.250000</td>\n",
       "      <td>299.000000</td>\n",
       "      <td>271.000000</td>\n",
       "      <td>318.000000</td>\n",
       "      <td>340.000000</td>\n",
       "      <td>318.000000</td>\n",
       "      <td>295.000000</td>\n",
       "      <td>297.000000</td>\n",
       "      <td>257.000000</td>\n",
       "      <td>270.000000</td>\n",
       "    </tr>\n",
       "    <tr>\n",
       "      <th>max</th>\n",
       "      <td>1663.000000</td>\n",
       "      <td>1671.000000</td>\n",
       "      <td>1653.000000</td>\n",
       "      <td>1565.000000</td>\n",
       "      <td>1490.000000</td>\n",
       "      <td>1558.000000</td>\n",
       "      <td>1692.000000</td>\n",
       "      <td>1798.000000</td>\n",
       "      <td>1473.000000</td>\n",
       "      <td>1616.000000</td>\n",
       "      <td>...</td>\n",
       "      <td>1502.000000</td>\n",
       "      <td>1466.000000</td>\n",
       "      <td>1434.000000</td>\n",
       "      <td>2139.000000</td>\n",
       "      <td>1616.000000</td>\n",
       "      <td>1487.000000</td>\n",
       "      <td>1328.000000</td>\n",
       "      <td>1660.000000</td>\n",
       "      <td>1381.000000</td>\n",
       "      <td>1530.000000</td>\n",
       "    </tr>\n",
       "  </tbody>\n",
       "</table>\n",
       "<p>8 rows × 45 columns</p>\n",
       "</div>"
      ],
      "text/plain": [
       "                  0              1              2              3   \\\n",
       "count  200000.000000  200000.000000  200000.000000  200000.000000   \n",
       "mean       -0.155080      -0.151245       1.199985       0.992790   \n",
       "std       469.812333     474.982646     531.597327     497.698988   \n",
       "min     -1960.000000   -1990.000000   -1936.000000   -1827.000000   \n",
       "25%      -289.000000    -292.000000    -332.000000    -311.000000   \n",
       "50%        42.000000      42.000000      62.000000      60.000000   \n",
       "75%       302.000000     307.000000     363.000000     344.000000   \n",
       "max      1663.000000    1671.000000    1653.000000    1565.000000   \n",
       "\n",
       "                  4              5              6              7   \\\n",
       "count  200000.000000  200000.000000  200000.000000  200000.000000   \n",
       "mean        0.175685       0.983750      -0.162915       0.261170   \n",
       "std       416.849924     481.063172     430.275056     412.539349   \n",
       "min     -2099.000000   -1785.000000   -1741.000000   -1898.000000   \n",
       "25%      -256.000000    -301.000000    -270.000000    -266.000000   \n",
       "50%        45.000000      53.000000      26.000000      36.000000   \n",
       "75%       273.000000     329.000000     260.000000     277.000000   \n",
       "max      1490.000000    1558.000000    1692.000000    1798.000000   \n",
       "\n",
       "                  8              9   ...             35             36  \\\n",
       "count  200000.000000  200000.000000  ...  200000.000000  200000.000000   \n",
       "mean        0.421385       0.033805  ...       0.821340       0.223980   \n",
       "std       409.782049     442.938682  ...     451.416847     448.273046   \n",
       "min     -1959.000000   -2200.000000  ...   -2028.000000   -2175.000000   \n",
       "25%      -259.000000    -268.000000  ...    -281.000000    -274.000000   \n",
       "50%        43.000000      48.000000  ...      65.000000      52.000000   \n",
       "75%       289.000000     284.000000  ...     316.250000     299.000000   \n",
       "max      1473.000000    1616.000000  ...    1502.000000    1466.000000   \n",
       "\n",
       "                  37             38             39             40  \\\n",
       "count  200000.000000  200000.000000  200000.000000  200000.000000   \n",
       "mean        0.436250       0.011300       1.118390       0.905315   \n",
       "std       394.024345     497.388713     501.522818     459.497084   \n",
       "min     -1941.000000   -2100.000000   -1872.000000   -1700.000000   \n",
       "25%      -242.000000    -299.000000    -314.000000    -284.000000   \n",
       "50%        45.000000      51.000000      62.000000      59.000000   \n",
       "75%       271.000000     318.000000     340.000000     318.000000   \n",
       "max      1434.000000    2139.000000    1616.000000    1487.000000   \n",
       "\n",
       "                  41             42             43             44  \n",
       "count  200000.000000  200000.000000  200000.000000  200000.000000  \n",
       "mean        0.816925       0.051260       0.561610       0.163880  \n",
       "std       423.988320     459.510612     377.669088     412.803968  \n",
       "min     -1657.000000   -2358.000000   -1685.000000   -1824.000000  \n",
       "25%      -267.000000    -278.000000    -237.000000    -257.000000  \n",
       "50%        54.000000      55.000000      37.000000      35.000000  \n",
       "75%       295.000000     297.000000     257.000000     270.000000  \n",
       "max      1328.000000    1660.000000    1381.000000    1530.000000  \n",
       "\n",
       "[8 rows x 45 columns]"
      ]
     },
     "execution_count": 20,
     "metadata": {},
     "output_type": "execute_result"
    }
   ],
   "source": [
    "epoch_1=FEF_df.iloc[0:900000, :]\n",
    "epoch_2=FEF_df.iloc[1800000:2000000, :]\n",
    "epoch_2.describe()"
   ]
  },
  {
   "cell_type": "code",
   "execution_count": 21,
   "id": "7677e305-a3ab-4b80-94b2-8dfeb67d9da2",
   "metadata": {},
   "outputs": [],
   "source": [
    "## Select our samples from each epoch\n",
    "random.seed(321)\n",
    "\n",
    "x_1 = epoch_1.sample(n=10000)\n",
    "x_2 = epoch_2.sample(n=10000)"
   ]
  },
  {
   "cell_type": "code",
   "execution_count": 22,
   "id": "bdc4a6de-9948-4acc-9d40-69def4c1ff29",
   "metadata": {},
   "outputs": [],
   "source": [
    "#train scaler only on the training sample\n",
    "\n",
    "scaler = MinMaxScaler(feature_range=(0, 1)).fit(x_1)\n",
    "\n",
    "\n",
    "# if PCA is needed, set the hyperparameters of the compression\n",
    "pca=PCA(.90)  # 90% of variance captured\n"
   ]
  },
  {
   "cell_type": "code",
   "execution_count": 23,
   "id": "d9ad7757-2eab-4aef-9832-c497d0afa5d9",
   "metadata": {},
   "outputs": [],
   "source": [
    "# apply scaler to both samples\n",
    "\n",
    "X1 = scaler.transform(x_1)\n",
    "X2 = scaler.transform(x_2)\n"
   ]
  },
  {
   "cell_type": "markdown",
   "id": "608358eb-f4be-44c4-b570-106bc73980f8",
   "metadata": {},
   "source": [
    "## Initialize the Detector algorithms"
   ]
  },
  {
   "cell_type": "code",
   "execution_count": 3,
   "id": "358319df-347b-4f5c-87eb-dee6f3b5271d",
   "metadata": {},
   "outputs": [],
   "source": [
    "#from pyod.models.abod import ABOD\n",
    "from pyod.models.ocsvm import OCSVM\n",
    "from pyod.models.cblof import CBLOF\n",
    "from pyod.models.feature_bagging import FeatureBagging\n",
    "from pyod.models.hbos import HBOS\n",
    "from pyod.models.iforest import IForest\n",
    "from pyod.models.knn import KNN\n",
    "from pyod.models.lof import LOF"
   ]
  },
  {
   "cell_type": "markdown",
   "id": "638e62e6-dd14-4e1d-a91a-f62ee7875ae9",
   "metadata": {},
   "source": [
    "#### Hyperparameters of the detectors"
   ]
  },
  {
   "cell_type": "code",
   "execution_count": 4,
   "id": "80e55f18-f02e-42ec-936b-d0df1a653837",
   "metadata": {},
   "outputs": [],
   "source": [
    "random_state = 321\n",
    "\n",
    "num_training_samples = 100000\n",
    "num_test_samples = 5000\n",
    "num_contamination_samples = 5000 # These are added to the test sample\n",
    "\n",
    "total_test_size = num_test_samples + num_contamination_samples\n",
    "\n",
    "# number of estimators for decision trees\n",
    "n_estimators = 100\n",
    "\n",
    "# assume contamination rate in training data\n",
    "contaimination = 0.05\n",
    "\n"
   ]
  },
  {
   "cell_type": "code",
   "execution_count": 5,
   "id": "3628b5b9-23f3-442e-aa30-01d75f5c8580",
   "metadata": {},
   "outputs": [],
   "source": [
    "classifiers = {\n",
    "        #'Angle-based Outlier Detector (ABOD)': ABOD(contamination=contaimination),\n",
    "        'One-Class SVM': OCSVM(kernel='rbf', nu=0.1, gamma='auto'),\n",
    "        'Cluster-based Local Outlier Factor (CBLOF)': CBLOF(contamination=contaimination, check_estimator=False, random_state=random_state),\n",
    "        'Feature Bagging':FeatureBagging(LOF(n_neighbors=35), contamination=contaimination, check_estimator=False, random_state=random_state),\n",
    "        'Histogram-base Outlier Detection (HBOS)': HBOS(contamination=contaimination),\n",
    "        'Isolation Forest': IForest(contamination=contaimination, random_state=random_state)\n",
    "}"
   ]
  },
  {
   "cell_type": "code",
   "execution_count": 36,
   "id": "a6c777a0-839e-4f9c-985f-c1053d322f01",
   "metadata": {
    "tags": []
   },
   "outputs": [
    {
     "data": {
      "text/plain": [
       "\"\\n# If you need a single ROI/data set with multiple classifiers, use this code block. Does the same thing with 1 fewer loop\\n\\nfor i, (clf_name, clf) in enumerate(classifiers.items()):\\n    clf.fit(X1)\\n    # predict raw anomaly score\\n    scores_pred = clf.decision_function(X2)\\n        \\n    # prediction of a datapoint category outlier or inlier\\n    y_pred = clf.predict(X2)\\n    n_inliers = len(y_pred) - np.count_nonzero(y_pred)\\n    n_outliers = np.count_nonzero(y_pred == 1)\\n    #plt.figure(figsize=(10, 10))\\n    \\n    # copy of dataframe\\n    #dfx = df\\n    #dfx['outlier'] = y_pred.tolist()\\n    is_outlier = y_pred.tolist()\\n    # IX1 - inlier feature 1,  IX2 - inlier feature 2\\n    #IX1 =  np.array(dfx['Item_MRP'][dfx['outlier'] == 0]).reshape(-1,1)\\n    #IX2 =  np.array(dfx['Item_Outlet_Sales'][dfx['outlier'] == 0]).reshape(-1,1)\\n    \\n    # OX1 - outlier feature 1, OX2 - outlier feature 2\\n    #OX1 =  dfx['Item_MRP'][dfx['outlier'] == 1].values.reshape(-1,1)\\n    #OX2 =  dfx['Item_Outlet_Sales'][dfx['outlier'] == 1].values.reshape(-1,1)\\n         \\n    print('OUTLIERS : ',n_outliers,'INLIERS : ',n_inliers, clf_name)\\n        \\n    # threshold value to consider a datapoint inlier or outlier\\n    threshold = stats.scoreatpercentile(scores_pred,100 * contaimination)\\n        \\n    # decision function calculates the raw anomaly score for every point\\n    #Z = clf.decision_function(np.c_[xx.ravel(), yy.ravel()]) * -1\\n    #Z = Z.reshape(xx.shape)\\n    \\n    \\n    \""
      ]
     },
     "execution_count": 36,
     "metadata": {},
     "output_type": "execute_result"
    }
   ],
   "source": [
    "'''\n",
    "# If you need a single ROI/data set with multiple classifiers, use this code block. Does the same thing with 1 fewer loop\n",
    "\n",
    "for i, (clf_name, clf) in enumerate(classifiers.items()):\n",
    "    clf.fit(X1)\n",
    "    # predict raw anomaly score\n",
    "    scores_pred = clf.decision_function(X2)\n",
    "        \n",
    "    # prediction of a datapoint category outlier or inlier\n",
    "    y_pred = clf.predict(X2)\n",
    "    n_inliers = len(y_pred) - np.count_nonzero(y_pred)\n",
    "    n_outliers = np.count_nonzero(y_pred == 1)\n",
    "    #plt.figure(figsize=(10, 10))\n",
    "    \n",
    "    # copy of dataframe\n",
    "    #dfx = df\n",
    "    #dfx['outlier'] = y_pred.tolist()\n",
    "    is_outlier = y_pred.tolist()\n",
    "    # IX1 - inlier feature 1,  IX2 - inlier feature 2\n",
    "    #IX1 =  np.array(dfx['Item_MRP'][dfx['outlier'] == 0]).reshape(-1,1)\n",
    "    #IX2 =  np.array(dfx['Item_Outlet_Sales'][dfx['outlier'] == 0]).reshape(-1,1)\n",
    "    \n",
    "    # OX1 - outlier feature 1, OX2 - outlier feature 2\n",
    "    #OX1 =  dfx['Item_MRP'][dfx['outlier'] == 1].values.reshape(-1,1)\n",
    "    #OX2 =  dfx['Item_Outlet_Sales'][dfx['outlier'] == 1].values.reshape(-1,1)\n",
    "         \n",
    "    print('OUTLIERS : ',n_outliers,'INLIERS : ',n_inliers, clf_name)\n",
    "        \n",
    "    # threshold value to consider a datapoint inlier or outlier\n",
    "    threshold = stats.scoreatpercentile(scores_pred,100 * contaimination)\n",
    "        \n",
    "    # decision function calculates the raw anomaly score for every point\n",
    "    #Z = clf.decision_function(np.c_[xx.ravel(), yy.ravel()]) * -1\n",
    "    #Z = Z.reshape(xx.shape)\n",
    "    \n",
    "    \n",
    "    '''\n"
   ]
  },
  {
   "cell_type": "markdown",
   "id": "53cfbe56-f630-4595-a079-7a9e59df8821",
   "metadata": {},
   "source": [
    "## Multiple ROI pipeline"
   ]
  },
  {
   "cell_type": "code",
   "execution_count": 6,
   "id": "ec3bf9d2-aa8f-43b7-9771-4a98f39de90e",
   "metadata": {},
   "outputs": [
    {
     "data": {
      "text/plain": [
       "{'FEF': 'Data/FEF_data.csv',\n",
       " 'PPC': 'Data/PPC_data.csv',\n",
       " 'STG': 'Data/STG_data.csv',\n",
       " 'vlPFC': 'Data/vlPFC_data.csv',\n",
       " 'rAntThal': 'Data/rAntThal_allBipolars_data.csv',\n",
       " 'rPostThal': 'Data/rPostThal_allBipolars_data.csv'}"
      ]
     },
     "execution_count": 6,
     "metadata": {},
     "output_type": "execute_result"
    }
   ],
   "source": [
    "ROI_data = {\n",
    "    'FEF': 'Data/FEF_data.csv', \n",
    "    'PPC': 'Data/PPC_data.csv', \n",
    "    'STG': 'Data/STG_data.csv', \n",
    "    'vlPFC':'Data/vlPFC_data.csv', \n",
    "    'rAntThal':'Data/rAntThal_allBipolars_data.csv',\n",
    "    'rPostThal': 'Data/rPostThal_allBipolars_data.csv',\n",
    "}\n",
    "\n",
    "ROI_data"
   ]
  },
  {
   "cell_type": "code",
   "execution_count": 38,
   "id": "2d4b6e5d-ffc3-45ce-911e-fdffc111a262",
   "metadata": {},
   "outputs": [
    {
     "name": "stdout",
     "output_type": "stream",
     "text": [
      "ROI :  FEF Fitting Anomaly Detectors\n"
     ]
    },
    {
     "data": {
      "text/plain": [
       "OCSVM(cache_size=200, coef0=0.0, contamination=0.1, degree=3, gamma='auto',\n",
       "   kernel='rbf', max_iter=-1, nu=0.1, shrinking=True, tol=0.001,\n",
       "   verbose=False)"
      ]
     },
     "execution_count": 38,
     "metadata": {},
     "output_type": "execute_result"
    },
    {
     "name": "stdout",
     "output_type": "stream",
     "text": [
      "One-Class SVM   OUTLIERS:  6235   INLIERS:  3765\n"
     ]
    },
    {
     "data": {
      "text/plain": [
       "CBLOF(alpha=0.9, beta=5, check_estimator=False, clustering_estimator=None,\n",
       "   contamination=0.05, n_clusters=8, n_jobs=None, random_state=321,\n",
       "   use_weights=False)"
      ]
     },
     "execution_count": 38,
     "metadata": {},
     "output_type": "execute_result"
    },
    {
     "name": "stdout",
     "output_type": "stream",
     "text": [
      "Cluster-based Local Outlier Factor (CBLOF)   OUTLIERS:  5394   INLIERS:  4606\n"
     ]
    },
    {
     "data": {
      "text/plain": [
       "FeatureBagging(base_estimator=LOF(algorithm='auto', contamination=0.1, leaf_size=30, metric='minkowski',\n",
       "  metric_params=None, n_jobs=1, n_neighbors=35, novelty=True, p=2),\n",
       "        bootstrap_features=False, check_detector=True,\n",
       "        check_estimator=False, combination='average', contamination=0.05,\n",
       "        estimator_params={}, max_features=1.0, n_estimators=10, n_jobs=1,\n",
       "        random_state=321, verbose=0)"
      ]
     },
     "execution_count": 38,
     "metadata": {},
     "output_type": "execute_result"
    },
    {
     "name": "stdout",
     "output_type": "stream",
     "text": [
      "Feature Bagging   OUTLIERS:  4496   INLIERS:  5504\n"
     ]
    },
    {
     "data": {
      "text/plain": [
       "HBOS(alpha=0.1, contamination=0.05, n_bins=10, tol=0.5)"
      ]
     },
     "execution_count": 38,
     "metadata": {},
     "output_type": "execute_result"
    },
    {
     "name": "stdout",
     "output_type": "stream",
     "text": [
      "Histogram-base Outlier Detection (HBOS)   OUTLIERS:  4752   INLIERS:  5248\n"
     ]
    },
    {
     "data": {
      "text/plain": [
       "IForest(behaviour='old', bootstrap=False, contamination=0.05,\n",
       "    max_features=1.0, max_samples='auto', n_estimators=100, n_jobs=1,\n",
       "    random_state=321, verbose=0)"
      ]
     },
     "execution_count": 38,
     "metadata": {},
     "output_type": "execute_result"
    },
    {
     "name": "stdout",
     "output_type": "stream",
     "text": [
      "Isolation Forest   OUTLIERS:  5171   INLIERS:  4829\n",
      "ROI :  PPC Fitting Anomaly Detectors\n"
     ]
    },
    {
     "data": {
      "text/plain": [
       "OCSVM(cache_size=200, coef0=0.0, contamination=0.1, degree=3, gamma='auto',\n",
       "   kernel='rbf', max_iter=-1, nu=0.1, shrinking=True, tol=0.001,\n",
       "   verbose=False)"
      ]
     },
     "execution_count": 38,
     "metadata": {},
     "output_type": "execute_result"
    },
    {
     "name": "stdout",
     "output_type": "stream",
     "text": [
      "One-Class SVM   OUTLIERS:  4031   INLIERS:  5969\n"
     ]
    },
    {
     "data": {
      "text/plain": [
       "CBLOF(alpha=0.9, beta=5, check_estimator=False, clustering_estimator=None,\n",
       "   contamination=0.05, n_clusters=8, n_jobs=None, random_state=321,\n",
       "   use_weights=False)"
      ]
     },
     "execution_count": 38,
     "metadata": {},
     "output_type": "execute_result"
    },
    {
     "name": "stdout",
     "output_type": "stream",
     "text": [
      "Cluster-based Local Outlier Factor (CBLOF)   OUTLIERS:  3899   INLIERS:  6101\n"
     ]
    },
    {
     "data": {
      "text/plain": [
       "FeatureBagging(base_estimator=LOF(algorithm='auto', contamination=0.1, leaf_size=30, metric='minkowski',\n",
       "  metric_params=None, n_jobs=1, n_neighbors=35, novelty=True, p=2),\n",
       "        bootstrap_features=False, check_detector=True,\n",
       "        check_estimator=False, combination='average', contamination=0.05,\n",
       "        estimator_params={}, max_features=1.0, n_estimators=10, n_jobs=1,\n",
       "        random_state=321, verbose=0)"
      ]
     },
     "execution_count": 38,
     "metadata": {},
     "output_type": "execute_result"
    },
    {
     "name": "stdout",
     "output_type": "stream",
     "text": [
      "Feature Bagging   OUTLIERS:  3348   INLIERS:  6652\n"
     ]
    },
    {
     "data": {
      "text/plain": [
       "HBOS(alpha=0.1, contamination=0.05, n_bins=10, tol=0.5)"
      ]
     },
     "execution_count": 38,
     "metadata": {},
     "output_type": "execute_result"
    },
    {
     "name": "stdout",
     "output_type": "stream",
     "text": [
      "Histogram-base Outlier Detection (HBOS)   OUTLIERS:  3580   INLIERS:  6420\n"
     ]
    },
    {
     "data": {
      "text/plain": [
       "IForest(behaviour='old', bootstrap=False, contamination=0.05,\n",
       "    max_features=1.0, max_samples='auto', n_estimators=100, n_jobs=1,\n",
       "    random_state=321, verbose=0)"
      ]
     },
     "execution_count": 38,
     "metadata": {},
     "output_type": "execute_result"
    },
    {
     "name": "stdout",
     "output_type": "stream",
     "text": [
      "Isolation Forest   OUTLIERS:  3967   INLIERS:  6033\n",
      "ROI :  STG Fitting Anomaly Detectors\n"
     ]
    },
    {
     "data": {
      "text/plain": [
       "OCSVM(cache_size=200, coef0=0.0, contamination=0.1, degree=3, gamma='auto',\n",
       "   kernel='rbf', max_iter=-1, nu=0.1, shrinking=True, tol=0.001,\n",
       "   verbose=False)"
      ]
     },
     "execution_count": 38,
     "metadata": {},
     "output_type": "execute_result"
    },
    {
     "name": "stdout",
     "output_type": "stream",
     "text": [
      "One-Class SVM   OUTLIERS:  3212   INLIERS:  6788\n"
     ]
    },
    {
     "data": {
      "text/plain": [
       "CBLOF(alpha=0.9, beta=5, check_estimator=False, clustering_estimator=None,\n",
       "   contamination=0.05, n_clusters=8, n_jobs=None, random_state=321,\n",
       "   use_weights=False)"
      ]
     },
     "execution_count": 38,
     "metadata": {},
     "output_type": "execute_result"
    },
    {
     "name": "stdout",
     "output_type": "stream",
     "text": [
      "Cluster-based Local Outlier Factor (CBLOF)   OUTLIERS:  2703   INLIERS:  7297\n"
     ]
    },
    {
     "data": {
      "text/plain": [
       "FeatureBagging(base_estimator=LOF(algorithm='auto', contamination=0.1, leaf_size=30, metric='minkowski',\n",
       "  metric_params=None, n_jobs=1, n_neighbors=35, novelty=True, p=2),\n",
       "        bootstrap_features=False, check_detector=True,\n",
       "        check_estimator=False, combination='average', contamination=0.05,\n",
       "        estimator_params={}, max_features=1.0, n_estimators=10, n_jobs=1,\n",
       "        random_state=321, verbose=0)"
      ]
     },
     "execution_count": 38,
     "metadata": {},
     "output_type": "execute_result"
    },
    {
     "name": "stdout",
     "output_type": "stream",
     "text": [
      "Feature Bagging   OUTLIERS:  1962   INLIERS:  8038\n"
     ]
    },
    {
     "data": {
      "text/plain": [
       "HBOS(alpha=0.1, contamination=0.05, n_bins=10, tol=0.5)"
      ]
     },
     "execution_count": 38,
     "metadata": {},
     "output_type": "execute_result"
    },
    {
     "name": "stdout",
     "output_type": "stream",
     "text": [
      "Histogram-base Outlier Detection (HBOS)   OUTLIERS:  2330   INLIERS:  7670\n"
     ]
    },
    {
     "data": {
      "text/plain": [
       "IForest(behaviour='old', bootstrap=False, contamination=0.05,\n",
       "    max_features=1.0, max_samples='auto', n_estimators=100, n_jobs=1,\n",
       "    random_state=321, verbose=0)"
      ]
     },
     "execution_count": 38,
     "metadata": {},
     "output_type": "execute_result"
    },
    {
     "name": "stdout",
     "output_type": "stream",
     "text": [
      "Isolation Forest   OUTLIERS:  2442   INLIERS:  7558\n",
      "ROI :  vlPFC Fitting Anomaly Detectors\n"
     ]
    },
    {
     "data": {
      "text/plain": [
       "OCSVM(cache_size=200, coef0=0.0, contamination=0.1, degree=3, gamma='auto',\n",
       "   kernel='rbf', max_iter=-1, nu=0.1, shrinking=True, tol=0.001,\n",
       "   verbose=False)"
      ]
     },
     "execution_count": 38,
     "metadata": {},
     "output_type": "execute_result"
    },
    {
     "name": "stdout",
     "output_type": "stream",
     "text": [
      "One-Class SVM   OUTLIERS:  6452   INLIERS:  3548\n"
     ]
    },
    {
     "data": {
      "text/plain": [
       "CBLOF(alpha=0.9, beta=5, check_estimator=False, clustering_estimator=None,\n",
       "   contamination=0.05, n_clusters=8, n_jobs=None, random_state=321,\n",
       "   use_weights=False)"
      ]
     },
     "execution_count": 38,
     "metadata": {},
     "output_type": "execute_result"
    },
    {
     "name": "stdout",
     "output_type": "stream",
     "text": [
      "Cluster-based Local Outlier Factor (CBLOF)   OUTLIERS:  5991   INLIERS:  4009\n"
     ]
    },
    {
     "data": {
      "text/plain": [
       "FeatureBagging(base_estimator=LOF(algorithm='auto', contamination=0.1, leaf_size=30, metric='minkowski',\n",
       "  metric_params=None, n_jobs=1, n_neighbors=35, novelty=True, p=2),\n",
       "        bootstrap_features=False, check_detector=True,\n",
       "        check_estimator=False, combination='average', contamination=0.05,\n",
       "        estimator_params={}, max_features=1.0, n_estimators=10, n_jobs=1,\n",
       "        random_state=321, verbose=0)"
      ]
     },
     "execution_count": 38,
     "metadata": {},
     "output_type": "execute_result"
    },
    {
     "name": "stdout",
     "output_type": "stream",
     "text": [
      "Feature Bagging   OUTLIERS:  5019   INLIERS:  4981\n"
     ]
    },
    {
     "data": {
      "text/plain": [
       "HBOS(alpha=0.1, contamination=0.05, n_bins=10, tol=0.5)"
      ]
     },
     "execution_count": 38,
     "metadata": {},
     "output_type": "execute_result"
    },
    {
     "name": "stdout",
     "output_type": "stream",
     "text": [
      "Histogram-base Outlier Detection (HBOS)   OUTLIERS:  5426   INLIERS:  4574\n"
     ]
    },
    {
     "data": {
      "text/plain": [
       "IForest(behaviour='old', bootstrap=False, contamination=0.05,\n",
       "    max_features=1.0, max_samples='auto', n_estimators=100, n_jobs=1,\n",
       "    random_state=321, verbose=0)"
      ]
     },
     "execution_count": 38,
     "metadata": {},
     "output_type": "execute_result"
    },
    {
     "name": "stdout",
     "output_type": "stream",
     "text": [
      "Isolation Forest   OUTLIERS:  5645   INLIERS:  4355\n",
      "ROI :  rAntThal Fitting Anomaly Detectors\n"
     ]
    },
    {
     "data": {
      "text/plain": [
       "OCSVM(cache_size=200, coef0=0.0, contamination=0.1, degree=3, gamma='auto',\n",
       "   kernel='rbf', max_iter=-1, nu=0.1, shrinking=True, tol=0.001,\n",
       "   verbose=False)"
      ]
     },
     "execution_count": 38,
     "metadata": {},
     "output_type": "execute_result"
    },
    {
     "name": "stdout",
     "output_type": "stream",
     "text": [
      "One-Class SVM   OUTLIERS:  908   INLIERS:  9092\n"
     ]
    },
    {
     "data": {
      "text/plain": [
       "CBLOF(alpha=0.9, beta=5, check_estimator=False, clustering_estimator=None,\n",
       "   contamination=0.05, n_clusters=8, n_jobs=None, random_state=321,\n",
       "   use_weights=False)"
      ]
     },
     "execution_count": 38,
     "metadata": {},
     "output_type": "execute_result"
    },
    {
     "name": "stdout",
     "output_type": "stream",
     "text": [
      "Cluster-based Local Outlier Factor (CBLOF)   OUTLIERS:  339   INLIERS:  9661\n"
     ]
    },
    {
     "data": {
      "text/plain": [
       "FeatureBagging(base_estimator=LOF(algorithm='auto', contamination=0.1, leaf_size=30, metric='minkowski',\n",
       "  metric_params=None, n_jobs=1, n_neighbors=35, novelty=True, p=2),\n",
       "        bootstrap_features=False, check_detector=True,\n",
       "        check_estimator=False, combination='average', contamination=0.05,\n",
       "        estimator_params={}, max_features=1.0, n_estimators=10, n_jobs=1,\n",
       "        random_state=321, verbose=0)"
      ]
     },
     "execution_count": 38,
     "metadata": {},
     "output_type": "execute_result"
    },
    {
     "name": "stdout",
     "output_type": "stream",
     "text": [
      "Feature Bagging   OUTLIERS:  439   INLIERS:  9561\n"
     ]
    },
    {
     "data": {
      "text/plain": [
       "HBOS(alpha=0.1, contamination=0.05, n_bins=10, tol=0.5)"
      ]
     },
     "execution_count": 38,
     "metadata": {},
     "output_type": "execute_result"
    },
    {
     "name": "stdout",
     "output_type": "stream",
     "text": [
      "Histogram-base Outlier Detection (HBOS)   OUTLIERS:  302   INLIERS:  9698\n"
     ]
    },
    {
     "data": {
      "text/plain": [
       "IForest(behaviour='old', bootstrap=False, contamination=0.05,\n",
       "    max_features=1.0, max_samples='auto', n_estimators=100, n_jobs=1,\n",
       "    random_state=321, verbose=0)"
      ]
     },
     "execution_count": 38,
     "metadata": {},
     "output_type": "execute_result"
    },
    {
     "name": "stdout",
     "output_type": "stream",
     "text": [
      "Isolation Forest   OUTLIERS:  337   INLIERS:  9663\n",
      "ROI :  rPostThal Fitting Anomaly Detectors\n"
     ]
    },
    {
     "data": {
      "text/plain": [
       "OCSVM(cache_size=200, coef0=0.0, contamination=0.1, degree=3, gamma='auto',\n",
       "   kernel='rbf', max_iter=-1, nu=0.1, shrinking=True, tol=0.001,\n",
       "   verbose=False)"
      ]
     },
     "execution_count": 38,
     "metadata": {},
     "output_type": "execute_result"
    },
    {
     "name": "stdout",
     "output_type": "stream",
     "text": [
      "One-Class SVM   OUTLIERS:  1841   INLIERS:  8159\n"
     ]
    },
    {
     "data": {
      "text/plain": [
       "CBLOF(alpha=0.9, beta=5, check_estimator=False, clustering_estimator=None,\n",
       "   contamination=0.05, n_clusters=8, n_jobs=None, random_state=321,\n",
       "   use_weights=False)"
      ]
     },
     "execution_count": 38,
     "metadata": {},
     "output_type": "execute_result"
    },
    {
     "name": "stdout",
     "output_type": "stream",
     "text": [
      "Cluster-based Local Outlier Factor (CBLOF)   OUTLIERS:  1177   INLIERS:  8823\n"
     ]
    },
    {
     "data": {
      "text/plain": [
       "FeatureBagging(base_estimator=LOF(algorithm='auto', contamination=0.1, leaf_size=30, metric='minkowski',\n",
       "  metric_params=None, n_jobs=1, n_neighbors=35, novelty=True, p=2),\n",
       "        bootstrap_features=False, check_detector=True,\n",
       "        check_estimator=False, combination='average', contamination=0.05,\n",
       "        estimator_params={}, max_features=1.0, n_estimators=10, n_jobs=1,\n",
       "        random_state=321, verbose=0)"
      ]
     },
     "execution_count": 38,
     "metadata": {},
     "output_type": "execute_result"
    },
    {
     "name": "stdout",
     "output_type": "stream",
     "text": [
      "Feature Bagging   OUTLIERS:  1451   INLIERS:  8549\n"
     ]
    },
    {
     "data": {
      "text/plain": [
       "HBOS(alpha=0.1, contamination=0.05, n_bins=10, tol=0.5)"
      ]
     },
     "execution_count": 38,
     "metadata": {},
     "output_type": "execute_result"
    },
    {
     "name": "stdout",
     "output_type": "stream",
     "text": [
      "Histogram-base Outlier Detection (HBOS)   OUTLIERS:  1084   INLIERS:  8916\n"
     ]
    },
    {
     "data": {
      "text/plain": [
       "IForest(behaviour='old', bootstrap=False, contamination=0.05,\n",
       "    max_features=1.0, max_samples='auto', n_estimators=100, n_jobs=1,\n",
       "    random_state=321, verbose=0)"
      ]
     },
     "execution_count": 38,
     "metadata": {},
     "output_type": "execute_result"
    },
    {
     "name": "stdout",
     "output_type": "stream",
     "text": [
      "Isolation Forest   OUTLIERS:  1163   INLIERS:  8837\n"
     ]
    }
   ],
   "source": [
    "results = pd.DataFrame()\n",
    "\n",
    "for i, (ROI_name, data_file_loc) in enumerate(ROI_data.items()):\n",
    "    \n",
    "    all_data_df = pd.read_csv(data_file_loc, header = None)\n",
    "    \n",
    "    x_1=all_data_df.iloc[0:900000, :].sample(n=num_training_samples)\n",
    "    x_2=pd.concat([all_data_df.iloc[1800000:2000000, :].sample(n=num_test_samples), all_data_df.iloc[1140000:1440000, :].sample(n=num_contamination_samples)])\n",
    "    \n",
    "    # fit scaler\n",
    "    scaler = MinMaxScaler(feature_range=(0, 1)).fit(x_1)\n",
    "    \n",
    "    # apply scaler\n",
    "    X1 = scaler.transform(x_1)\n",
    "    X2 = scaler.transform(x_2)\n",
    "    \n",
    "    print('ROI : ', ROI_name, 'Fitting Anomaly Detectors')\n",
    "    \n",
    "    # Main loop\n",
    "    for i, (clf_name, clf) in enumerate(classifiers.items()):\n",
    "        \n",
    "        # PCA fit if One-class SVM is used:\n",
    "        if clf_name == 'One-Class SVM':\n",
    "            \n",
    "            tempFit_pca=pca.fit(X1)\n",
    "            X1 = tempFit_pca.transform(X1)\n",
    "            X2 = tempFit_pca.transform(X2)\n",
    "        \n",
    "        \n",
    "        clf.fit(X1)\n",
    "        # predict anomaly score (probability)\n",
    "        scores_pred = clf.decision_function(X2)\n",
    "\n",
    "        # prediction of a datapoint category outlier or inlier\n",
    "        \n",
    "        y_pred = clf.predict(X2)\n",
    "        n_inliers = len(y_pred) - np.count_nonzero(y_pred)\n",
    "        n_outliers = np.count_nonzero(y_pred == 1)\n",
    "        \n",
    "        # Record Metrics dataframe\n",
    "        y_test = np.concatenate((np.zeros(num_test_samples), np.ones(num_contamination_samples)), axis=0)\n",
    "        temp_res = metrics_dataframe(model=clf, y_test=y_test, prediction=y_pred)\n",
    "        temp_res['Model_Name'] = clf_name\n",
    "        temp_res['RoI'] = ROI_name\n",
    "        \n",
    "        results = pd.concat([results, temp_res])\n",
    "        \n",
    "        #plt.figure(figsize=(10, 10))\n",
    "        \n",
    "        # copy of dataframe\n",
    "        #dfx = df\n",
    "        #dfx['outlier'] = y_pred.tolist()\n",
    "        is_outlier = y_pred.tolist()\n",
    "        \n",
    "        #IX1 - inlier feature 1,  IX2 - inlier feature 2\n",
    "        #IX1 =  np.array(dfx['Item_MRP'][dfx['outlier'] == 0]).reshape(-1,1)\n",
    "        #IX2 =  np.array(dfx['Item_Outlet_Sales'][dfx['outlier'] == 0]).reshape(-1,1)\n",
    "\n",
    "        # OX1 - outlier feature 1, OX2 - outlier feature 2\n",
    "        #OX1 =  dfx['Item_MRP'][dfx['outlier'] == 1].values.reshape(-1,1)\n",
    "        #OX2 =  dfx['Item_Outlet_Sales'][dfx['outlier'] == 1].values.reshape(-1,1)\n",
    "\n",
    "        print(clf_name, '  OUTLIERS: ', n_outliers, '  INLIERS: ', n_inliers)\n",
    "\n",
    "        # threshold value to consider a datapoint inlier or outlier\n",
    "        #threshold = stats.scoreatpercentile(scores_pred,100 * contaimination)\n",
    "        \n"
   ]
  },
  {
   "cell_type": "code",
   "execution_count": 39,
   "id": "2dce119e-63e9-4415-97ef-b246aba845c8",
   "metadata": {},
   "outputs": [
    {
     "data": {
      "text/html": [
       "<div>\n",
       "<style scoped>\n",
       "    .dataframe tbody tr th:only-of-type {\n",
       "        vertical-align: middle;\n",
       "    }\n",
       "\n",
       "    .dataframe tbody tr th {\n",
       "        vertical-align: top;\n",
       "    }\n",
       "\n",
       "    .dataframe thead th {\n",
       "        text-align: right;\n",
       "    }\n",
       "</style>\n",
       "<table border=\"1\" class=\"dataframe\">\n",
       "  <thead>\n",
       "    <tr style=\"text-align: right;\">\n",
       "      <th></th>\n",
       "      <th>accuracy_score</th>\n",
       "      <th>matthews_corrcoef</th>\n",
       "      <th>f1_score</th>\n",
       "      <th>precision_score</th>\n",
       "      <th>recall_score</th>\n",
       "      <th>roc_auc_score</th>\n",
       "    </tr>\n",
       "  </thead>\n",
       "  <tbody>\n",
       "    <tr>\n",
       "      <th>count</th>\n",
       "      <td>30.000000</td>\n",
       "      <td>30.000000</td>\n",
       "      <td>30.000000</td>\n",
       "      <td>30.000000</td>\n",
       "      <td>30.000000</td>\n",
       "      <td>30.000000</td>\n",
       "    </tr>\n",
       "    <tr>\n",
       "      <th>mean</th>\n",
       "      <td>0.449127</td>\n",
       "      <td>-0.092482</td>\n",
       "      <td>0.407089</td>\n",
       "      <td>0.488066</td>\n",
       "      <td>0.266113</td>\n",
       "      <td>0.449127</td>\n",
       "    </tr>\n",
       "    <tr>\n",
       "      <th>std</th>\n",
       "      <td>0.072253</td>\n",
       "      <td>0.164888</td>\n",
       "      <td>0.051748</td>\n",
       "      <td>0.142624</td>\n",
       "      <td>0.143530</td>\n",
       "      <td>0.072253</td>\n",
       "    </tr>\n",
       "    <tr>\n",
       "      <th>min</th>\n",
       "      <td>0.306200</td>\n",
       "      <td>-0.388809</td>\n",
       "      <td>0.305121</td>\n",
       "      <td>0.320356</td>\n",
       "      <td>0.043200</td>\n",
       "      <td>0.306200</td>\n",
       "    </tr>\n",
       "    <tr>\n",
       "      <th>25%</th>\n",
       "      <td>0.415175</td>\n",
       "      <td>-0.192480</td>\n",
       "      <td>0.378713</td>\n",
       "      <td>0.366744</td>\n",
       "      <td>0.163100</td>\n",
       "      <td>0.415175</td>\n",
       "    </tr>\n",
       "    <tr>\n",
       "      <th>50%</th>\n",
       "      <td>0.445750</td>\n",
       "      <td>-0.112012</td>\n",
       "      <td>0.407302</td>\n",
       "      <td>0.430754</td>\n",
       "      <td>0.278700</td>\n",
       "      <td>0.445750</td>\n",
       "    </tr>\n",
       "    <tr>\n",
       "      <th>75%</th>\n",
       "      <td>0.514875</td>\n",
       "      <td>0.075345</td>\n",
       "      <td>0.442293</td>\n",
       "      <td>0.628340</td>\n",
       "      <td>0.346800</td>\n",
       "      <td>0.514875</td>\n",
       "    </tr>\n",
       "    <tr>\n",
       "      <th>max</th>\n",
       "      <td>0.548900</td>\n",
       "      <td>0.152534</td>\n",
       "      <td>0.498449</td>\n",
       "      <td>0.729970</td>\n",
       "      <td>0.495600</td>\n",
       "      <td>0.548900</td>\n",
       "    </tr>\n",
       "  </tbody>\n",
       "</table>\n",
       "</div>"
      ],
      "text/plain": [
       "       accuracy_score  matthews_corrcoef   f1_score  precision_score  \\\n",
       "count       30.000000          30.000000  30.000000        30.000000   \n",
       "mean         0.449127          -0.092482   0.407089         0.488066   \n",
       "std          0.072253           0.164888   0.051748         0.142624   \n",
       "min          0.306200          -0.388809   0.305121         0.320356   \n",
       "25%          0.415175          -0.192480   0.378713         0.366744   \n",
       "50%          0.445750          -0.112012   0.407302         0.430754   \n",
       "75%          0.514875           0.075345   0.442293         0.628340   \n",
       "max          0.548900           0.152534   0.498449         0.729970   \n",
       "\n",
       "       recall_score  roc_auc_score  \n",
       "count     30.000000      30.000000  \n",
       "mean       0.266113       0.449127  \n",
       "std        0.143530       0.072253  \n",
       "min        0.043200       0.306200  \n",
       "25%        0.163100       0.415175  \n",
       "50%        0.278700       0.445750  \n",
       "75%        0.346800       0.514875  \n",
       "max        0.495600       0.548900  "
      ]
     },
     "execution_count": 39,
     "metadata": {},
     "output_type": "execute_result"
    }
   ],
   "source": [
    " results.describe()"
   ]
  },
  {
   "cell_type": "code",
   "execution_count": 40,
   "id": "38420f7c-9882-499a-afad-107915d0026c",
   "metadata": {},
   "outputs": [
    {
     "data": {
      "text/html": [
       "<div>\n",
       "<style scoped>\n",
       "    .dataframe tbody tr th:only-of-type {\n",
       "        vertical-align: middle;\n",
       "    }\n",
       "\n",
       "    .dataframe tbody tr th {\n",
       "        vertical-align: top;\n",
       "    }\n",
       "\n",
       "    .dataframe thead th {\n",
       "        text-align: right;\n",
       "    }\n",
       "</style>\n",
       "<table border=\"1\" class=\"dataframe\">\n",
       "  <thead>\n",
       "    <tr style=\"text-align: right;\">\n",
       "      <th></th>\n",
       "      <th>accuracy_score</th>\n",
       "      <th>matthews_corrcoef</th>\n",
       "      <th>f1_score</th>\n",
       "      <th>precision_score</th>\n",
       "      <th>recall_score</th>\n",
       "      <th>roc_auc_score</th>\n",
       "      <th>model</th>\n",
       "      <th>Model_Name</th>\n",
       "      <th>RoI</th>\n",
       "    </tr>\n",
       "  </thead>\n",
       "  <tbody>\n",
       "    <tr>\n",
       "      <th>0</th>\n",
       "      <td>0.3415</td>\n",
       "      <td>-0.327136</td>\n",
       "      <td>0.331301</td>\n",
       "      <td>0.372895</td>\n",
       "      <td>0.4650</td>\n",
       "      <td>0.3415</td>\n",
       "      <td>OCSVM(cache_size=200, coef0=0.0, contamination...</td>\n",
       "      <td>One-Class SVM</td>\n",
       "      <td>FEF</td>\n",
       "    </tr>\n",
       "    <tr>\n",
       "      <th>0</th>\n",
       "      <td>0.3062</td>\n",
       "      <td>-0.388809</td>\n",
       "      <td>0.305121</td>\n",
       "      <td>0.320356</td>\n",
       "      <td>0.3456</td>\n",
       "      <td>0.3062</td>\n",
       "      <td>CBLOF(alpha=0.9, beta=5, check_estimator=False...</td>\n",
       "      <td>Cluster-based Local Outlier Factor (CBLOF)</td>\n",
       "      <td>FEF</td>\n",
       "    </tr>\n",
       "    <tr>\n",
       "      <th>0</th>\n",
       "      <td>0.3956</td>\n",
       "      <td>-0.209869</td>\n",
       "      <td>0.394061</td>\n",
       "      <td>0.383897</td>\n",
       "      <td>0.3452</td>\n",
       "      <td>0.3956</td>\n",
       "      <td>FeatureBagging(base_estimator=LOF(algorithm='a...</td>\n",
       "      <td>Feature Bagging</td>\n",
       "      <td>FEF</td>\n",
       "    </tr>\n",
       "    <tr>\n",
       "      <th>0</th>\n",
       "      <td>0.3700</td>\n",
       "      <td>-0.260320</td>\n",
       "      <td>0.369612</td>\n",
       "      <td>0.363215</td>\n",
       "      <td>0.3452</td>\n",
       "      <td>0.3700</td>\n",
       "      <td>HBOS(alpha=0.1, contamination=0.05, n_bins=10,...</td>\n",
       "      <td>Histogram-base Outlier Detection (HBOS)</td>\n",
       "      <td>FEF</td>\n",
       "    </tr>\n",
       "    <tr>\n",
       "      <th>0</th>\n",
       "      <td>0.3587</td>\n",
       "      <td>-0.282765</td>\n",
       "      <td>0.358512</td>\n",
       "      <td>0.363373</td>\n",
       "      <td>0.3758</td>\n",
       "      <td>0.3587</td>\n",
       "      <td>IForest(behaviour='old', bootstrap=False, cont...</td>\n",
       "      <td>Isolation Forest</td>\n",
       "      <td>FEF</td>\n",
       "    </tr>\n",
       "    <tr>\n",
       "      <th>0</th>\n",
       "      <td>0.4441</td>\n",
       "      <td>-0.113961</td>\n",
       "      <td>0.438831</td>\n",
       "      <td>0.430662</td>\n",
       "      <td>0.3472</td>\n",
       "      <td>0.4441</td>\n",
       "      <td>OCSVM(cache_size=200, coef0=0.0, contamination...</td>\n",
       "      <td>One-Class SVM</td>\n",
       "      <td>PPC</td>\n",
       "    </tr>\n",
       "    <tr>\n",
       "      <th>0</th>\n",
       "      <td>0.4501</td>\n",
       "      <td>-0.102311</td>\n",
       "      <td>0.443352</td>\n",
       "      <td>0.436009</td>\n",
       "      <td>0.3400</td>\n",
       "      <td>0.4501</td>\n",
       "      <td>CBLOF(alpha=0.9, beta=5, check_estimator=False...</td>\n",
       "      <td>Cluster-based Local Outlier Factor (CBLOF)</td>\n",
       "      <td>PPC</td>\n",
       "    </tr>\n",
       "    <tr>\n",
       "      <th>0</th>\n",
       "      <td>0.4728</td>\n",
       "      <td>-0.057637</td>\n",
       "      <td>0.458008</td>\n",
       "      <td>0.459379</td>\n",
       "      <td>0.3076</td>\n",
       "      <td>0.4728</td>\n",
       "      <td>FeatureBagging(base_estimator=LOF(algorithm='a...</td>\n",
       "      <td>Feature Bagging</td>\n",
       "      <td>PPC</td>\n",
       "    </tr>\n",
       "    <tr>\n",
       "      <th>0</th>\n",
       "      <td>0.4464</td>\n",
       "      <td>-0.111804</td>\n",
       "      <td>0.435007</td>\n",
       "      <td>0.425140</td>\n",
       "      <td>0.3044</td>\n",
       "      <td>0.4464</td>\n",
       "      <td>HBOS(alpha=0.1, contamination=0.05, n_bins=10,...</td>\n",
       "      <td>Histogram-base Outlier Detection (HBOS)</td>\n",
       "      <td>PPC</td>\n",
       "    </tr>\n",
       "    <tr>\n",
       "      <th>0</th>\n",
       "      <td>0.4451</td>\n",
       "      <td>-0.112221</td>\n",
       "      <td>0.439115</td>\n",
       "      <td>0.430804</td>\n",
       "      <td>0.3418</td>\n",
       "      <td>0.4451</td>\n",
       "      <td>IForest(behaviour='old', bootstrap=False, cont...</td>\n",
       "      <td>Isolation Forest</td>\n",
       "      <td>PPC</td>\n",
       "    </tr>\n",
       "    <tr>\n",
       "      <th>0</th>\n",
       "      <td>0.4318</td>\n",
       "      <td>-0.146058</td>\n",
       "      <td>0.413035</td>\n",
       "      <td>0.393836</td>\n",
       "      <td>0.2530</td>\n",
       "      <td>0.4318</td>\n",
       "      <td>OCSVM(cache_size=200, coef0=0.0, contamination...</td>\n",
       "      <td>One-Class SVM</td>\n",
       "      <td>STG</td>\n",
       "    </tr>\n",
       "    <tr>\n",
       "      <th>0</th>\n",
       "      <td>0.4129</td>\n",
       "      <td>-0.196120</td>\n",
       "      <td>0.380198</td>\n",
       "      <td>0.338883</td>\n",
       "      <td>0.1832</td>\n",
       "      <td>0.4129</td>\n",
       "      <td>CBLOF(alpha=0.9, beta=5, check_estimator=False...</td>\n",
       "      <td>Cluster-based Local Outlier Factor (CBLOF)</td>\n",
       "      <td>STG</td>\n",
       "    </tr>\n",
       "    <tr>\n",
       "      <th>0</th>\n",
       "      <td>0.4568</td>\n",
       "      <td>-0.108783</td>\n",
       "      <td>0.401568</td>\n",
       "      <td>0.389908</td>\n",
       "      <td>0.1530</td>\n",
       "      <td>0.4568</td>\n",
       "      <td>FeatureBagging(base_estimator=LOF(algorithm='a...</td>\n",
       "      <td>Feature Bagging</td>\n",
       "      <td>STG</td>\n",
       "    </tr>\n",
       "    <tr>\n",
       "      <th>0</th>\n",
       "      <td>0.4324</td>\n",
       "      <td>-0.159908</td>\n",
       "      <td>0.388830</td>\n",
       "      <td>0.354936</td>\n",
       "      <td>0.1654</td>\n",
       "      <td>0.4324</td>\n",
       "      <td>HBOS(alpha=0.1, contamination=0.05, n_bins=10,...</td>\n",
       "      <td>Histogram-base Outlier Detection (HBOS)</td>\n",
       "      <td>STG</td>\n",
       "    </tr>\n",
       "    <tr>\n",
       "      <th>0</th>\n",
       "      <td>0.4220</td>\n",
       "      <td>-0.181559</td>\n",
       "      <td>0.381531</td>\n",
       "      <td>0.340295</td>\n",
       "      <td>0.1662</td>\n",
       "      <td>0.4220</td>\n",
       "      <td>IForest(behaviour='old', bootstrap=False, cont...</td>\n",
       "      <td>Isolation Forest</td>\n",
       "      <td>STG</td>\n",
       "    </tr>\n",
       "    <tr>\n",
       "      <th>0</th>\n",
       "      <td>0.3254</td>\n",
       "      <td>-0.364926</td>\n",
       "      <td>0.310871</td>\n",
       "      <td>0.364693</td>\n",
       "      <td>0.4706</td>\n",
       "      <td>0.3254</td>\n",
       "      <td>OCSVM(cache_size=200, coef0=0.0, contamination...</td>\n",
       "      <td>One-Class SVM</td>\n",
       "      <td>vlPFC</td>\n",
       "    </tr>\n",
       "    <tr>\n",
       "      <th>0</th>\n",
       "      <td>0.3303</td>\n",
       "      <td>-0.346269</td>\n",
       "      <td>0.323658</td>\n",
       "      <td>0.358371</td>\n",
       "      <td>0.4294</td>\n",
       "      <td>0.3303</td>\n",
       "      <td>CBLOF(alpha=0.9, beta=5, check_estimator=False...</td>\n",
       "      <td>Cluster-based Local Outlier Factor (CBLOF)</td>\n",
       "      <td>vlPFC</td>\n",
       "    </tr>\n",
       "    <tr>\n",
       "      <th>0</th>\n",
       "      <td>0.4937</td>\n",
       "      <td>-0.012600</td>\n",
       "      <td>0.493698</td>\n",
       "      <td>0.493724</td>\n",
       "      <td>0.4956</td>\n",
       "      <td>0.4937</td>\n",
       "      <td>FeatureBagging(base_estimator=LOF(algorithm='a...</td>\n",
       "      <td>Feature Bagging</td>\n",
       "      <td>vlPFC</td>\n",
       "    </tr>\n",
       "    <tr>\n",
       "      <th>0</th>\n",
       "      <td>0.4248</td>\n",
       "      <td>-0.150949</td>\n",
       "      <td>0.423754</td>\n",
       "      <td>0.430704</td>\n",
       "      <td>0.4674</td>\n",
       "      <td>0.4248</td>\n",
       "      <td>HBOS(alpha=0.1, contamination=0.05, n_bins=10,...</td>\n",
       "      <td>Histogram-base Outlier Detection (HBOS)</td>\n",
       "      <td>vlPFC</td>\n",
       "    </tr>\n",
       "    <tr>\n",
       "      <th>0</th>\n",
       "      <td>0.4225</td>\n",
       "      <td>-0.156306</td>\n",
       "      <td>0.420087</td>\n",
       "      <td>0.431355</td>\n",
       "      <td>0.4870</td>\n",
       "      <td>0.4225</td>\n",
       "      <td>IForest(behaviour='old', bootstrap=False, cont...</td>\n",
       "      <td>Isolation Forest</td>\n",
       "      <td>vlPFC</td>\n",
       "    </tr>\n",
       "    <tr>\n",
       "      <th>0</th>\n",
       "      <td>0.5154</td>\n",
       "      <td>0.053598</td>\n",
       "      <td>0.417937</td>\n",
       "      <td>0.584802</td>\n",
       "      <td>0.1062</td>\n",
       "      <td>0.5154</td>\n",
       "      <td>OCSVM(cache_size=200, coef0=0.0, contamination...</td>\n",
       "      <td>One-Class SVM</td>\n",
       "      <td>rAntThal</td>\n",
       "    </tr>\n",
       "    <tr>\n",
       "      <th>0</th>\n",
       "      <td>0.5133</td>\n",
       "      <td>0.073492</td>\n",
       "      <td>0.378218</td>\n",
       "      <td>0.696165</td>\n",
       "      <td>0.0472</td>\n",
       "      <td>0.5133</td>\n",
       "      <td>CBLOF(alpha=0.9, beta=5, check_estimator=False...</td>\n",
       "      <td>Cluster-based Local Outlier Factor (CBLOF)</td>\n",
       "      <td>rAntThal</td>\n",
       "    </tr>\n",
       "    <tr>\n",
       "      <th>0</th>\n",
       "      <td>0.5177</td>\n",
       "      <td>0.086395</td>\n",
       "      <td>0.391014</td>\n",
       "      <td>0.701595</td>\n",
       "      <td>0.0616</td>\n",
       "      <td>0.5177</td>\n",
       "      <td>FeatureBagging(base_estimator=LOF(algorithm='a...</td>\n",
       "      <td>Feature Bagging</td>\n",
       "      <td>rAntThal</td>\n",
       "    </tr>\n",
       "    <tr>\n",
       "      <th>0</th>\n",
       "      <td>0.5130</td>\n",
       "      <td>0.075962</td>\n",
       "      <td>0.375071</td>\n",
       "      <td>0.715232</td>\n",
       "      <td>0.0432</td>\n",
       "      <td>0.5130</td>\n",
       "      <td>HBOS(alpha=0.1, contamination=0.05, n_bins=10,...</td>\n",
       "      <td>Histogram-base Outlier Detection (HBOS)</td>\n",
       "      <td>rAntThal</td>\n",
       "    </tr>\n",
       "    <tr>\n",
       "      <th>0</th>\n",
       "      <td>0.5155</td>\n",
       "      <td>0.085894</td>\n",
       "      <td>0.380882</td>\n",
       "      <td>0.729970</td>\n",
       "      <td>0.0492</td>\n",
       "      <td>0.5155</td>\n",
       "      <td>IForest(behaviour='old', bootstrap=False, cont...</td>\n",
       "      <td>Isolation Forest</td>\n",
       "      <td>rAntThal</td>\n",
       "    </tr>\n",
       "    <tr>\n",
       "      <th>0</th>\n",
       "      <td>0.5485</td>\n",
       "      <td>0.125140</td>\n",
       "      <td>0.498449</td>\n",
       "      <td>0.631722</td>\n",
       "      <td>0.2326</td>\n",
       "      <td>0.5485</td>\n",
       "      <td>OCSVM(cache_size=200, coef0=0.0, contamination...</td>\n",
       "      <td>One-Class SVM</td>\n",
       "      <td>rPostThal</td>\n",
       "    </tr>\n",
       "    <tr>\n",
       "      <th>0</th>\n",
       "      <td>0.5447</td>\n",
       "      <td>0.138711</td>\n",
       "      <td>0.466766</td>\n",
       "      <td>0.689890</td>\n",
       "      <td>0.1624</td>\n",
       "      <td>0.5447</td>\n",
       "      <td>CBLOF(alpha=0.9, beta=5, check_estimator=False...</td>\n",
       "      <td>Cluster-based Local Outlier Factor (CBLOF)</td>\n",
       "      <td>rPostThal</td>\n",
       "    </tr>\n",
       "    <tr>\n",
       "      <th>0</th>\n",
       "      <td>0.5343</td>\n",
       "      <td>0.097387</td>\n",
       "      <td>0.467191</td>\n",
       "      <td>0.618194</td>\n",
       "      <td>0.1794</td>\n",
       "      <td>0.5343</td>\n",
       "      <td>FeatureBagging(base_estimator=LOF(algorithm='a...</td>\n",
       "      <td>Feature Bagging</td>\n",
       "      <td>rPostThal</td>\n",
       "    </tr>\n",
       "    <tr>\n",
       "      <th>0</th>\n",
       "      <td>0.5394</td>\n",
       "      <td>0.126735</td>\n",
       "      <td>0.455973</td>\n",
       "      <td>0.681734</td>\n",
       "      <td>0.1478</td>\n",
       "      <td>0.5394</td>\n",
       "      <td>HBOS(alpha=0.1, contamination=0.05, n_bins=10,...</td>\n",
       "      <td>Histogram-base Outlier Detection (HBOS)</td>\n",
       "      <td>rPostThal</td>\n",
       "    </tr>\n",
       "    <tr>\n",
       "      <th>0</th>\n",
       "      <td>0.5489</td>\n",
       "      <td>0.152534</td>\n",
       "      <td>0.471021</td>\n",
       "      <td>0.710232</td>\n",
       "      <td>0.1652</td>\n",
       "      <td>0.5489</td>\n",
       "      <td>IForest(behaviour='old', bootstrap=False, cont...</td>\n",
       "      <td>Isolation Forest</td>\n",
       "      <td>rPostThal</td>\n",
       "    </tr>\n",
       "  </tbody>\n",
       "</table>\n",
       "</div>"
      ],
      "text/plain": [
       "   accuracy_score  matthews_corrcoef  f1_score  precision_score  recall_score  \\\n",
       "0          0.3415          -0.327136  0.331301         0.372895        0.4650   \n",
       "0          0.3062          -0.388809  0.305121         0.320356        0.3456   \n",
       "0          0.3956          -0.209869  0.394061         0.383897        0.3452   \n",
       "0          0.3700          -0.260320  0.369612         0.363215        0.3452   \n",
       "0          0.3587          -0.282765  0.358512         0.363373        0.3758   \n",
       "0          0.4441          -0.113961  0.438831         0.430662        0.3472   \n",
       "0          0.4501          -0.102311  0.443352         0.436009        0.3400   \n",
       "0          0.4728          -0.057637  0.458008         0.459379        0.3076   \n",
       "0          0.4464          -0.111804  0.435007         0.425140        0.3044   \n",
       "0          0.4451          -0.112221  0.439115         0.430804        0.3418   \n",
       "0          0.4318          -0.146058  0.413035         0.393836        0.2530   \n",
       "0          0.4129          -0.196120  0.380198         0.338883        0.1832   \n",
       "0          0.4568          -0.108783  0.401568         0.389908        0.1530   \n",
       "0          0.4324          -0.159908  0.388830         0.354936        0.1654   \n",
       "0          0.4220          -0.181559  0.381531         0.340295        0.1662   \n",
       "0          0.3254          -0.364926  0.310871         0.364693        0.4706   \n",
       "0          0.3303          -0.346269  0.323658         0.358371        0.4294   \n",
       "0          0.4937          -0.012600  0.493698         0.493724        0.4956   \n",
       "0          0.4248          -0.150949  0.423754         0.430704        0.4674   \n",
       "0          0.4225          -0.156306  0.420087         0.431355        0.4870   \n",
       "0          0.5154           0.053598  0.417937         0.584802        0.1062   \n",
       "0          0.5133           0.073492  0.378218         0.696165        0.0472   \n",
       "0          0.5177           0.086395  0.391014         0.701595        0.0616   \n",
       "0          0.5130           0.075962  0.375071         0.715232        0.0432   \n",
       "0          0.5155           0.085894  0.380882         0.729970        0.0492   \n",
       "0          0.5485           0.125140  0.498449         0.631722        0.2326   \n",
       "0          0.5447           0.138711  0.466766         0.689890        0.1624   \n",
       "0          0.5343           0.097387  0.467191         0.618194        0.1794   \n",
       "0          0.5394           0.126735  0.455973         0.681734        0.1478   \n",
       "0          0.5489           0.152534  0.471021         0.710232        0.1652   \n",
       "\n",
       "   roc_auc_score                                              model  \\\n",
       "0         0.3415  OCSVM(cache_size=200, coef0=0.0, contamination...   \n",
       "0         0.3062  CBLOF(alpha=0.9, beta=5, check_estimator=False...   \n",
       "0         0.3956  FeatureBagging(base_estimator=LOF(algorithm='a...   \n",
       "0         0.3700  HBOS(alpha=0.1, contamination=0.05, n_bins=10,...   \n",
       "0         0.3587  IForest(behaviour='old', bootstrap=False, cont...   \n",
       "0         0.4441  OCSVM(cache_size=200, coef0=0.0, contamination...   \n",
       "0         0.4501  CBLOF(alpha=0.9, beta=5, check_estimator=False...   \n",
       "0         0.4728  FeatureBagging(base_estimator=LOF(algorithm='a...   \n",
       "0         0.4464  HBOS(alpha=0.1, contamination=0.05, n_bins=10,...   \n",
       "0         0.4451  IForest(behaviour='old', bootstrap=False, cont...   \n",
       "0         0.4318  OCSVM(cache_size=200, coef0=0.0, contamination...   \n",
       "0         0.4129  CBLOF(alpha=0.9, beta=5, check_estimator=False...   \n",
       "0         0.4568  FeatureBagging(base_estimator=LOF(algorithm='a...   \n",
       "0         0.4324  HBOS(alpha=0.1, contamination=0.05, n_bins=10,...   \n",
       "0         0.4220  IForest(behaviour='old', bootstrap=False, cont...   \n",
       "0         0.3254  OCSVM(cache_size=200, coef0=0.0, contamination...   \n",
       "0         0.3303  CBLOF(alpha=0.9, beta=5, check_estimator=False...   \n",
       "0         0.4937  FeatureBagging(base_estimator=LOF(algorithm='a...   \n",
       "0         0.4248  HBOS(alpha=0.1, contamination=0.05, n_bins=10,...   \n",
       "0         0.4225  IForest(behaviour='old', bootstrap=False, cont...   \n",
       "0         0.5154  OCSVM(cache_size=200, coef0=0.0, contamination...   \n",
       "0         0.5133  CBLOF(alpha=0.9, beta=5, check_estimator=False...   \n",
       "0         0.5177  FeatureBagging(base_estimator=LOF(algorithm='a...   \n",
       "0         0.5130  HBOS(alpha=0.1, contamination=0.05, n_bins=10,...   \n",
       "0         0.5155  IForest(behaviour='old', bootstrap=False, cont...   \n",
       "0         0.5485  OCSVM(cache_size=200, coef0=0.0, contamination...   \n",
       "0         0.5447  CBLOF(alpha=0.9, beta=5, check_estimator=False...   \n",
       "0         0.5343  FeatureBagging(base_estimator=LOF(algorithm='a...   \n",
       "0         0.5394  HBOS(alpha=0.1, contamination=0.05, n_bins=10,...   \n",
       "0         0.5489  IForest(behaviour='old', bootstrap=False, cont...   \n",
       "\n",
       "                                   Model_Name        RoI  \n",
       "0                               One-Class SVM        FEF  \n",
       "0  Cluster-based Local Outlier Factor (CBLOF)        FEF  \n",
       "0                             Feature Bagging        FEF  \n",
       "0     Histogram-base Outlier Detection (HBOS)        FEF  \n",
       "0                            Isolation Forest        FEF  \n",
       "0                               One-Class SVM        PPC  \n",
       "0  Cluster-based Local Outlier Factor (CBLOF)        PPC  \n",
       "0                             Feature Bagging        PPC  \n",
       "0     Histogram-base Outlier Detection (HBOS)        PPC  \n",
       "0                            Isolation Forest        PPC  \n",
       "0                               One-Class SVM        STG  \n",
       "0  Cluster-based Local Outlier Factor (CBLOF)        STG  \n",
       "0                             Feature Bagging        STG  \n",
       "0     Histogram-base Outlier Detection (HBOS)        STG  \n",
       "0                            Isolation Forest        STG  \n",
       "0                               One-Class SVM      vlPFC  \n",
       "0  Cluster-based Local Outlier Factor (CBLOF)      vlPFC  \n",
       "0                             Feature Bagging      vlPFC  \n",
       "0     Histogram-base Outlier Detection (HBOS)      vlPFC  \n",
       "0                            Isolation Forest      vlPFC  \n",
       "0                               One-Class SVM   rAntThal  \n",
       "0  Cluster-based Local Outlier Factor (CBLOF)   rAntThal  \n",
       "0                             Feature Bagging   rAntThal  \n",
       "0     Histogram-base Outlier Detection (HBOS)   rAntThal  \n",
       "0                            Isolation Forest   rAntThal  \n",
       "0                               One-Class SVM  rPostThal  \n",
       "0  Cluster-based Local Outlier Factor (CBLOF)  rPostThal  \n",
       "0                             Feature Bagging  rPostThal  \n",
       "0     Histogram-base Outlier Detection (HBOS)  rPostThal  \n",
       "0                            Isolation Forest  rPostThal  "
      ]
     },
     "execution_count": 40,
     "metadata": {},
     "output_type": "execute_result"
    }
   ],
   "source": [
    "results"
   ]
  },
  {
   "cell_type": "code",
   "execution_count": null,
   "id": "d1cee0b1-a1d8-49a5-9f8e-cbe2af2b6589",
   "metadata": {},
   "outputs": [],
   "source": []
  },
  {
   "cell_type": "code",
   "execution_count": 67,
   "id": "3db2da7f-c2c8-4177-a162-8299ae9c89ac",
   "metadata": {},
   "outputs": [
    {
     "data": {
      "text/plain": [
       "<Figure size 1440x1440 with 0 Axes>"
      ]
     },
     "execution_count": 67,
     "metadata": {},
     "output_type": "execute_result"
    },
    {
     "ename": "AttributeError",
     "evalue": "'FacetGrid' object has no attribute 'axhline'",
     "output_type": "error",
     "traceback": [
      "\u001b[0;31m---------------------------------------------------------------------------\u001b[0m",
      "\u001b[0;31mAttributeError\u001b[0m                            Traceback (most recent call last)",
      "\u001b[0;32m<ipython-input-67-a71ba293f650>\u001b[0m in \u001b[0;36m<module>\u001b[0;34m\u001b[0m\n\u001b[1;32m      2\u001b[0m \u001b[0mplt\u001b[0m\u001b[0;34m.\u001b[0m\u001b[0mfigure\u001b[0m\u001b[0;34m(\u001b[0m\u001b[0mfigsize\u001b[0m\u001b[0;34m=\u001b[0m\u001b[0;34m(\u001b[0m\u001b[0;36m20\u001b[0m\u001b[0;34m,\u001b[0m \u001b[0;36m20\u001b[0m\u001b[0;34m)\u001b[0m\u001b[0;34m)\u001b[0m\u001b[0;34m\u001b[0m\u001b[0;34m\u001b[0m\u001b[0m\n\u001b[1;32m      3\u001b[0m \u001b[0mg\u001b[0m \u001b[0;34m=\u001b[0m \u001b[0msns\u001b[0m\u001b[0;34m.\u001b[0m\u001b[0mcatplot\u001b[0m\u001b[0;34m(\u001b[0m\u001b[0mdata\u001b[0m\u001b[0;34m=\u001b[0m\u001b[0mresults\u001b[0m\u001b[0;34m,\u001b[0m \u001b[0mx\u001b[0m\u001b[0;34m=\u001b[0m\u001b[0;34m'Model_Name'\u001b[0m\u001b[0;34m,\u001b[0m \u001b[0my\u001b[0m\u001b[0;34m=\u001b[0m\u001b[0;34m'matthews_corrcoef'\u001b[0m\u001b[0;34m,\u001b[0m \u001b[0mcol\u001b[0m\u001b[0;34m=\u001b[0m\u001b[0;34m'RoI'\u001b[0m\u001b[0;34m,\u001b[0m \u001b[0mhue\u001b[0m\u001b[0;34m=\u001b[0m\u001b[0;34m'Model_Name'\u001b[0m\u001b[0;34m,\u001b[0m \u001b[0mlegend\u001b[0m\u001b[0;34m=\u001b[0m\u001b[0;32mFalse\u001b[0m\u001b[0;34m,\u001b[0m \u001b[0mcol_wrap\u001b[0m\u001b[0;34m=\u001b[0m\u001b[0;36m3\u001b[0m\u001b[0;34m,\u001b[0m \u001b[0mkind\u001b[0m\u001b[0;34m=\u001b[0m\u001b[0;34m\"bar\"\u001b[0m\u001b[0;34m)\u001b[0m\u001b[0;34m.\u001b[0m\u001b[0madd_legend\u001b[0m\u001b[0;34m(\u001b[0m\u001b[0;34m)\u001b[0m\u001b[0;34m\u001b[0m\u001b[0;34m\u001b[0m\u001b[0m\n\u001b[0;32m----> 4\u001b[0;31m \u001b[0mg2\u001b[0m \u001b[0;34m=\u001b[0m \u001b[0mg\u001b[0m\u001b[0;34m.\u001b[0m\u001b[0mset\u001b[0m\u001b[0;34m(\u001b[0m\u001b[0mxlabel\u001b[0m\u001b[0;34m=\u001b[0m\u001b[0;32mNone\u001b[0m\u001b[0;34m)\u001b[0m\u001b[0;34m.\u001b[0m\u001b[0mset\u001b[0m\u001b[0;34m(\u001b[0m\u001b[0mxticklabels\u001b[0m\u001b[0;34m=\u001b[0m\u001b[0;34m[\u001b[0m\u001b[0;34m]\u001b[0m\u001b[0;34m)\u001b[0m\u001b[0;34m.\u001b[0m\u001b[0maxhline\u001b[0m\u001b[0;34m(\u001b[0m\u001b[0my\u001b[0m\u001b[0;34m=\u001b[0m\u001b[0;36m0\u001b[0m\u001b[0;34m)\u001b[0m\u001b[0;34m\u001b[0m\u001b[0;34m\u001b[0m\u001b[0m\n\u001b[0m\u001b[1;32m      5\u001b[0m \u001b[0mplt\u001b[0m\u001b[0;34m.\u001b[0m\u001b[0mshow\u001b[0m\u001b[0;34m(\u001b[0m\u001b[0;34m)\u001b[0m\u001b[0;34m\u001b[0m\u001b[0;34m\u001b[0m\u001b[0m\n",
      "\u001b[0;31mAttributeError\u001b[0m: 'FacetGrid' object has no attribute 'axhline'"
     ]
    },
    {
     "data": {
      "text/plain": [
       "<Figure size 1440x1440 with 0 Axes>"
      ]
     },
     "metadata": {},
     "output_type": "display_data"
    },
    {
     "data": {
      "image/png": "[encoded data removed]",
      "text/plain": [
       "<Figure size 1327.62x720 with 6 Axes>"
      ]
     },
     "metadata": {
      "needs_background": "light"
     },
     "output_type": "display_data"
    }
   ],
   "source": [
    "# Plot results with seaborn\n",
    "plt.figure(figsize=(20, 20))\n",
    "g = sns.catplot(data=results, x='Model_Name', y='matthews_corrcoef', col='RoI', hue='Model_Name', legend=False, col_wrap=3, kind=\"bar\").add_legend()\n",
    "g2 = g.set(xlabel=None).set(xticklabels=[]).axhline(y=0)\n",
    "plt.show()"
   ]
  },
  {
   "cell_type": "code",
   "execution_count": 68,
   "id": "0bbab9d3-1d6f-4b4a-ac34-644931bfe6c1",
   "metadata": {},
   "outputs": [],
   "source": [
    "results.to_csv(\"/home/sean/Work/Anesthesia_DBS/anomalydetect_10k.csv\")"
   ]
  },
  {
   "cell_type": "code",
   "execution_count": null,
   "id": "b13a3d91-ea28-4962-a639-0a3a8fb3f3a9",
   "metadata": {},
   "outputs": [],
   "source": []
  }
 ],
 "metadata": {
  "kernelspec": {
   "display_name": "Python 3",
   "language": "python",
   "name": "python3"
  },
  "language_info": {
   "codemirror_mode": {
    "name": "ipython",
    "version": 3
   },
   "file_extension": ".py",
   "mimetype": "text/x-python",
   "name": "python",
   "nbconvert_exporter": "python",
   "pygments_lexer": "ipython3",
   "version": "3.9.10"
  }
 },
 "nbformat": 4,
 "nbformat_minor": 5
}
